{
 "cells": [
  {
   "cell_type": "code",
   "execution_count": 33,
   "id": "further-template",
   "metadata": {},
   "outputs": [],
   "source": [
    "from concurrent.futures import ThreadPoolExecutor\n",
    "import os\n",
    "from PIL import Image\n",
    "import requests\n",
    "import threading\n",
    "\n",
    "import cv2\n",
    "import pandas as pd\n",
    "from tqdm import tqdm"
   ]
  },
  {
   "cell_type": "code",
   "execution_count": 2,
   "id": "egyptian-unemployment",
   "metadata": {},
   "outputs": [],
   "source": [
    "data_dir = '../data/'\n",
    "img_dir = os.path.join(data_dir, 'google_captions/imgs/')\n",
    "data_fp = os.path.join(data_dir, 'google_captions/gcc_train_data.tsv')\n",
    "animal_names_fp = os.path.join(data_dir, 'animal_names.txt')"
   ]
  },
  {
   "cell_type": "code",
   "execution_count": 3,
   "id": "gross-repeat",
   "metadata": {},
   "outputs": [
    {
     "data": {
      "text/html": [
       "<div>\n",
       "<style scoped>\n",
       "    .dataframe tbody tr th:only-of-type {\n",
       "        vertical-align: middle;\n",
       "    }\n",
       "\n",
       "    .dataframe tbody tr th {\n",
       "        vertical-align: top;\n",
       "    }\n",
       "\n",
       "    .dataframe thead th {\n",
       "        text-align: right;\n",
       "    }\n",
       "</style>\n",
       "<table border=\"1\" class=\"dataframe\">\n",
       "  <thead>\n",
       "    <tr style=\"text-align: right;\">\n",
       "      <th></th>\n",
       "      <th>caption</th>\n",
       "      <th>url</th>\n",
       "    </tr>\n",
       "  </thead>\n",
       "  <tbody>\n",
       "    <tr>\n",
       "      <th>3262086</th>\n",
       "      <td>interpretation of a dream in which you sawfood</td>\n",
       "      <td>https://drawinglics.com/view/660453/interpreta...</td>\n",
       "    </tr>\n",
       "    <tr>\n",
       "      <th>2374623</th>\n",
       "      <td>person dances on a cliff</td>\n",
       "      <td>https://communications.iu.edu/images/team/pers...</td>\n",
       "    </tr>\n",
       "    <tr>\n",
       "      <th>2390527</th>\n",
       "      <td>cyclists pass , in the early evening light</td>\n",
       "      <td>http://l7.alamy.com/zooms/2ca14e7754b84e08b045...</td>\n",
       "    </tr>\n",
       "    <tr>\n",
       "      <th>807452</th>\n",
       "      <td>woman painting a heart on the window</td>\n",
       "      <td>http://l7.alamy.com/zooms/baeab7b2ad514fa3af88...</td>\n",
       "    </tr>\n",
       "    <tr>\n",
       "      <th>788135</th>\n",
       "      <td>if your dreams end with you releasing an arrow...</td>\n",
       "      <td>https://i.pinimg.com/736x/71/2c/c6/712cc625230...</td>\n",
       "    </tr>\n",
       "  </tbody>\n",
       "</table>\n",
       "</div>"
      ],
      "text/plain": [
       "                                                   caption  \\\n",
       "3262086     interpretation of a dream in which you sawfood   \n",
       "2374623                           person dances on a cliff   \n",
       "2390527         cyclists pass , in the early evening light   \n",
       "807452                woman painting a heart on the window   \n",
       "788135   if your dreams end with you releasing an arrow...   \n",
       "\n",
       "                                                       url  \n",
       "3262086  https://drawinglics.com/view/660453/interpreta...  \n",
       "2374623  https://communications.iu.edu/images/team/pers...  \n",
       "2390527  http://l7.alamy.com/zooms/2ca14e7754b84e08b045...  \n",
       "807452   http://l7.alamy.com/zooms/baeab7b2ad514fa3af88...  \n",
       "788135   https://i.pinimg.com/736x/71/2c/c6/712cc625230...  "
      ]
     },
     "execution_count": 3,
     "metadata": {},
     "output_type": "execute_result"
    }
   ],
   "source": [
    "df = pd.read_csv(data_fp, delimiter='\\t', header=None, names=['caption', 'url'])\n",
    "df = df.sample(frac=1)\n",
    "df.head()"
   ]
  },
  {
   "cell_type": "code",
   "execution_count": 4,
   "id": "checked-chick",
   "metadata": {},
   "outputs": [
    {
     "name": "stdout",
     "output_type": "stream",
     "text": [
      "355 animals\n"
     ]
    }
   ],
   "source": [
    "with open(animal_names_fp, 'r') as f:\n",
    "    animal_names = f.readlines()\n",
    "animal_names = set([an.strip().lower() for an in animal_names if ' ' not in an.strip()])\n",
    "print(len(animal_names), 'animals')"
   ]
  },
  {
   "cell_type": "code",
   "execution_count": 5,
   "id": "smooth-kidney",
   "metadata": {},
   "outputs": [],
   "source": [
    "def contains_word(sentence, target_words):\n",
    "    for token in sentence.split():\n",
    "        if token in target_words:\n",
    "            return True\n",
    "    return False"
   ]
  },
  {
   "cell_type": "code",
   "execution_count": 6,
   "id": "disturbed-sodium",
   "metadata": {},
   "outputs": [],
   "source": [
    "animal_entries = df.apply(lambda row: contains_word(row['caption'], animal_names), axis=1)\n",
    "animal_df = df[animal_entries]\n",
    "print(len(animal_df))"
   ]
  },
  {
   "cell_type": "code",
   "execution_count": 37,
   "id": "postal-lafayette",
   "metadata": {},
   "outputs": [],
   "source": [
    "def get_img_from_url(url):\n",
    "    try:\n",
    "        return Image.open(requests.get(url, stream=True, timeout=8).raw)\n",
    "    except Exception as e:\n",
    "        print('ERROR!' + e)\n",
    "        print('Couldn\\'t get img from url \"{}\" because of `{}`, skipping.'.format(url, type(e)))\n",
    "\n",
    "def format_img(img, target_size=256):\n",
    "    width, height = img.size\n",
    "    smaller_dim = min(width, height)\n",
    "    scale_factor = target_size / smaller_dim\n",
    "    width = int(scale_factor * width)\n",
    "    height = int(scale_factor * height)\n",
    "    img = img.resize((width, height))\n",
    "\n",
    "    half_size = target_size // 2\n",
    "    left = (width // 2) - half_size\n",
    "    right = (width // 2) + half_size\n",
    "    top = (height // 2) - half_size\n",
    "    bottom = (height // 2) + half_size\n",
    "    img = img.crop((left, top, right, bottom))\n",
    "    \n",
    "    return img\n",
    "\n",
    "def process_and_save_img(url, name):\n",
    "    img = get_img_from_url(url)\n",
    "    img = format_img(img)\n",
    "    \n",
    "    save_path = os.path.join(img_dir, name)\n",
    "    img.save('{}.png'.format(save_path), 'PNG')"
   ]
  },
  {
   "cell_type": "code",
   "execution_count": 38,
   "id": "contained-debut",
   "metadata": {},
   "outputs": [],
   "source": [
    "def download_dataset(df, n_threads=16):\n",
    "    with ThreadPoolExecutor(max_workers=n_threads) as executor:\n",
    "        for i, row in tqdm(df.iterrows(), total=df.shape[0]):\n",
    "            name = str(row.name)\n",
    "            url = row['url']\n",
    "            executor.submit(process_and_save_img, url, name)"
   ]
  },
  {
   "cell_type": "code",
   "execution_count": null,
   "id": "maritime-simulation",
   "metadata": {},
   "outputs": [
    {
     "name": "stderr",
     "output_type": "stream",
     "text": [
      "100%|████████████████████████████████████████████████████████████████████████| 203578/203578 [00:23<00:00, 8795.28it/s]\n",
      "C:\\Users\\ninja\\.conda\\envs\\ml-env\\lib\\site-packages\\PIL\\TiffImagePlugin.py:793: UserWarning: Corrupt EXIF data.  Expecting to read 2 bytes but only got 0. \n",
      "  warnings.warn(str(msg))\n",
      "C:\\Users\\ninja\\.conda\\envs\\ml-env\\lib\\site-packages\\PIL\\Image.py:2957: UserWarning: image file could not be identified because WEBP support not installed\n",
      "  warnings.warn(message)\n",
      "C:\\Users\\ninja\\.conda\\envs\\ml-env\\lib\\site-packages\\PIL\\TiffImagePlugin.py:771: UserWarning: Possibly corrupt EXIF data.  Expecting to read 589824 bytes but only got 0. Skipping tag 0\n",
      "  warnings.warn(\n",
      "C:\\Users\\ninja\\.conda\\envs\\ml-env\\lib\\site-packages\\PIL\\TiffImagePlugin.py:793: UserWarning: Corrupt EXIF data.  Expecting to read 4 bytes but only got 0. \n",
      "  warnings.warn(str(msg))\n"
     ]
    }
   ],
   "source": [
    "download_dataset(animal_df)"
   ]
  }
 ],
 "metadata": {
  "kernelspec": {
   "display_name": "Python 3",
   "language": "python",
   "name": "python3"
  },
  "language_info": {
   "codemirror_mode": {
    "name": "ipython",
    "version": 3
   },
   "file_extension": ".py",
   "mimetype": "text/x-python",
   "name": "python",
   "nbconvert_exporter": "python",
   "pygments_lexer": "ipython3",
   "version": "3.9.2"
  }
 },
 "nbformat": 4,
 "nbformat_minor": 5
}
